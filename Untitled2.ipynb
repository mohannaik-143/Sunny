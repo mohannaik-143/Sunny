{
 "cells": [
  {
   "cell_type": "code",
   "execution_count": 3,
   "metadata": {},
   "outputs": [
    {
     "name": "stdout",
     "output_type": "stream",
     "text": [
      "['39', '17', '14', '30', '14', '41', '30', '37', '40', '18']\n",
      "the average is: 28.0\n"
     ]
    }
   ],
   "source": [
    "count=0\n",
    "avg=0\n",
    "sam=0\n",
    "with open(\"folder/marks.txt\",'r')as f:\n",
    "    s=(f.read())\n",
    "l=list(s.split())\n",
    "print(l)\n",
    "for i in l:\n",
    "    sam=sam+int(i)\n",
    "    count+=1\n",
    "print(\"the average is:\",(sam/count))"
   ]
  },
  {
   "cell_type": "code",
   "execution_count": 9,
   "metadata": {},
   "outputs": [
    {
     "name": "stdout",
     "output_type": "stream",
     "text": [
      "['39', '17', '14', '30', '14', '41', '30', '37', '40', '18']\n",
      "['39', '30', '41', '30', '37', '40']\n",
      "the pass percentage is: 60.0\n",
      "the fail percentage is: 40.0\n",
      "1\n",
      "2\n"
     ]
    }
   ],
   "source": [
    "l2=[]\n",
    "with open(\"folder/marks.txt\",'r')as f:\n",
    "    s=(f.read())\n",
    "l=list(s.split())\n",
    "print(l)\n",
    "for i in l:\n",
    "    if(int(i)>=28):\n",
    "        l2.append(i)\n",
    "print(l2)\n",
    "print(\"the pass percentage is:\",((len(l2)/len(l))*100))\n",
    "print(\"the fail percentage is:\",abs((((len(l2)/len(l))*100))-100))\n",
    "print(l2.count(max(l2)))\n",
    "print(l2.count(min(l2)))"
   ]
  },
  {
   "cell_type": "code",
   "execution_count": 10,
   "metadata": {},
   "outputs": [
    {
     "name": "stdout",
     "output_type": "stream",
     "text": [
      "1\n",
      "2\n",
      "3\n",
      "pradeep\n",
      "reddy\n"
     ]
    }
   ],
   "source": [
    "def asdf(*ghj):\n",
    "    for i in ghj:\n",
    "        print(i)\n",
    "asdf(1,2,3,'pradeep','reddy')"
   ]
  },
  {
   "cell_type": "code",
   "execution_count": 11,
   "metadata": {},
   "outputs": [
    {
     "name": "stdout",
     "output_type": "stream",
     "text": [
      "{1: 'asdf'}\n",
      "{}\n"
     ]
    }
   ],
   "source": [
    "d={}\n",
    "d[1]='asdf'\n",
    "print(d)\n",
    "d.popitem()\n",
    "print(d)"
   ]
  },
  {
   "cell_type": "code",
   "execution_count": 13,
   "metadata": {},
   "outputs": [
    {
     "name": "stdout",
     "output_type": "stream",
     "text": [
      "{1: 'a', 2: 'b', 3: 'c'}\n",
      "None\n",
      "None\n"
     ]
    }
   ],
   "source": [
    "d={1:'a',2:'b',3:'c'}\n",
    "print(d)\n",
    "print(d.setdefault(4))\n",
    "print(d.setdefault(4,'j'))"
   ]
  },
  {
   "cell_type": "code",
   "execution_count": 14,
   "metadata": {},
   "outputs": [
    {
     "name": "stdout",
     "output_type": "stream",
     "text": [
      "<class 'set'>\n",
      "['__and__', '__class__', '__contains__', '__delattr__', '__dir__', '__doc__', '__eq__', '__format__', '__ge__', '__getattribute__', '__gt__', '__hash__', '__iand__', '__init__', '__init_subclass__', '__ior__', '__isub__', '__iter__', '__ixor__', '__le__', '__len__', '__lt__', '__ne__', '__new__', '__or__', '__rand__', '__reduce__', '__reduce_ex__', '__repr__', '__ror__', '__rsub__', '__rxor__', '__setattr__', '__sizeof__', '__str__', '__sub__', '__subclasshook__', '__xor__', 'add', 'clear', 'copy', 'difference', 'difference_update', 'discard', 'intersection', 'intersection_update', 'isdisjoint', 'issubset', 'issuperset', 'pop', 'remove', 'symmetric_difference', 'symmetric_difference_update', 'union', 'update']\n"
     ]
    }
   ],
   "source": [
    "set={1,2,3,}\n",
    "print(type(set))\n",
    "print(dir(set))"
   ]
  },
  {
   "cell_type": "code",
   "execution_count": 15,
   "metadata": {},
   "outputs": [
    {
     "name": "stdout",
     "output_type": "stream",
     "text": [
      "True\n"
     ]
    }
   ],
   "source": [
    "set={1,2,3,}\n",
    "print(1 in set)\n"
   ]
  },
  {
   "cell_type": "code",
   "execution_count": 16,
   "metadata": {},
   "outputs": [
    {
     "name": "stdout",
     "output_type": "stream",
     "text": [
      "1\n",
      "2\n",
      "3\n",
      "True\n"
     ]
    }
   ],
   "source": [
    "set={1,2,3,}\n",
    "for i in set:\n",
    "    print(i)\n",
    "\n",
    "print(1 in set)\n",
    "   "
   ]
  },
  {
   "cell_type": "code",
   "execution_count": 18,
   "metadata": {},
   "outputs": [
    {
     "name": "stdout",
     "output_type": "stream",
     "text": [
      "{1, 2, 3, 4}\n",
      "{1, 2, 3, 4, 5, 6, 7, 8}\n"
     ]
    }
   ],
   "source": [
    "set={1,2,3}\n",
    "set.add(4)\n",
    "print(set)\n",
    "set.update({5,6,5,6,4,7,7,3,8})\n",
    "print(set)\n"
   ]
  },
  {
   "cell_type": "code",
   "execution_count": 19,
   "metadata": {},
   "outputs": [
    {
     "name": "stdout",
     "output_type": "stream",
     "text": [
      "{2, 3, 4, 5, 6, 7, 8}\n",
      "{2, 3, 4, 5, 6, 7, 8}\n",
      "{2, 3, 4, 5, 6, 7, 8}\n"
     ]
    }
   ],
   "source": [
    "set.pop()\n",
    "print(set)\n",
    "print(set)\n",
    "set.discard('5')\n",
    "print(set)"
   ]
  },
  {
   "cell_type": "code",
   "execution_count": 20,
   "metadata": {},
   "outputs": [
    {
     "name": "stdout",
     "output_type": "stream",
     "text": [
      "{3, 4}\n"
     ]
    }
   ],
   "source": [
    "l={1,2,3,4,5,6}\n",
    "p={1,2,5,6}\n",
    "print(l.difference(p))\n"
   ]
  },
  {
   "cell_type": "code",
   "execution_count": 21,
   "metadata": {},
   "outputs": [
    {
     "name": "stdout",
     "output_type": "stream",
     "text": [
      "{3, 4}\n"
     ]
    }
   ],
   "source": [
    "l={1,2,3,4,5,6}\n",
    "p={1,2,5,6}\n",
    "l.difference_update(p)\n",
    "print(l)"
   ]
  },
  {
   "cell_type": "code",
   "execution_count": 24,
   "metadata": {},
   "outputs": [
    {
     "name": "stdout",
     "output_type": "stream",
     "text": [
      "{1, 2, 3, 4, 5, 6}\n"
     ]
    }
   ],
   "source": [
    "l={1,2,3,4,5,6}\n",
    "p={1,3,5,6}\n",
    "l.intersection_update(p)\n",
    "print(l)"
   ]
  },
  {
   "cell_type": "code",
   "execution_count": 25,
   "metadata": {},
   "outputs": [
    {
     "name": "stdout",
     "output_type": "stream",
     "text": [
      "{1, 3, 5, 6}\n"
     ]
    }
   ],
   "source": [
    "l={1,2,3,4,5,6}\n",
    "p={1,3,5,6}\n",
    "l.intersection_update(p)\n",
    "print(l)"
   ]
  },
  {
   "cell_type": "code",
   "execution_count": 26,
   "metadata": {},
   "outputs": [
    {
     "name": "stdout",
     "output_type": "stream",
     "text": [
      "{1, 2, 3, 4, 5, 6}\n",
      "{1, 3, 5, 6}\n"
     ]
    }
   ],
   "source": [
    "l={1,2,3,4,5,6}\n",
    "p={1,3,5,6}\n",
    "l.symmetric_difference(p)\n",
    "print(l)\n",
    "p.symmetric_difference(p)\n",
    "print(p)"
   ]
  },
  {
   "cell_type": "code",
   "execution_count": 30,
   "metadata": {},
   "outputs": [
    {
     "name": "stdout",
     "output_type": "stream",
     "text": [
      "{2, 4, 6}\n",
      "{1, 2, 3, 4, 5, 6}\n"
     ]
    }
   ],
   "source": [
    "l={1,2,3,4,5,6}\n",
    "p={1,3,5}\n",
    "l.symmetric_difference_update(p)\n",
    "print(l)\n",
    "p.symmetric_difference_update(l)\n",
    "print(p)"
   ]
  },
  {
   "cell_type": "code",
   "execution_count": 31,
   "metadata": {},
   "outputs": [
    {
     "name": "stdout",
     "output_type": "stream",
     "text": [
      "{2, 4, 6}\n"
     ]
    }
   ],
   "source": [
    "l={1,2,3,4,5,6}\n",
    "p={1,3,5}\n",
    "p.symmetric_difference_update(l)\n",
    "print(p)"
   ]
  },
  {
   "cell_type": "code",
   "execution_count": 35,
   "metadata": {},
   "outputs": [
    {
     "name": "stdout",
     "output_type": "stream",
     "text": [
      "False\n"
     ]
    }
   ],
   "source": [
    "l={1,2,3,4,5,6}\n",
    "p={1,2}\n",
    "print(l.issubset(p))"
   ]
  },
  {
   "cell_type": "code",
   "execution_count": 6,
   "metadata": {},
   "outputs": [
    {
     "name": "stdout",
     "output_type": "stream",
     "text": [
      "enter5\n",
      "\n",
      "\n",
      "*\n",
      "\n",
      "**\n",
      "\n",
      "***\n",
      "\n",
      "****\n",
      "\n",
      "*****\n",
      "\n"
     ]
    }
   ],
   "source": [
    "n=int(input(\"enter\"))\n",
    "for i in range(n+1):\n",
    "    j=i\n",
    "    while(j>0):\n",
    "        print(\"*\",end='')\n",
    "        j=j-1\n",
    "    n=n-1\n",
    "    print(\"\\n\")\n",
    "for i in range(n):\n",
    "    for j in range(n-1):\n",
    "        print(\"*\",end='')\n",
    "        j=j-1\n",
    "    n=n-1\n",
    "    print(\"\\n\")"
   ]
  },
  {
   "cell_type": "code",
   "execution_count": null,
   "metadata": {},
   "outputs": [],
   "source": []
  }
 ],
 "metadata": {
  "kernelspec": {
   "display_name": "Python 3",
   "language": "python",
   "name": "python3"
  },
  "language_info": {
   "codemirror_mode": {
    "name": "ipython",
    "version": 3
   },
   "file_extension": ".py",
   "mimetype": "text/x-python",
   "name": "python",
   "nbconvert_exporter": "python",
   "pygments_lexer": "ipython3",
   "version": "3.8.5"
  }
 },
 "nbformat": 4,
 "nbformat_minor": 4
}

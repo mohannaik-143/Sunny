{
 "cells": [
  {
   "cell_type": "markdown",
   "metadata": {},
   "source": [
    "### packages and modules\n",
    "# package\n",
    "   ## collection of modules\n",
    "   ## modules\n",
    "   ### python files contains functions,objects and classes\n",
    "   #### access using import\n",
    "   ### packages\n",
    "   #### built in\n",
    "   #### pandas numpy matplot lib regular expression\n",
    "   #### user defined\n",
    "   #### defined for our purpose\n",
    "   #### modules\n",
    "   #### built in\n",
    "   #### math time calender random"
   ]
  },
  {
   "cell_type": "code",
   "execution_count": 1,
   "metadata": {},
   "outputs": [
    {
     "name": "stdout",
     "output_type": "stream",
     "text": [
      "['__doc__', '__loader__', '__name__', '__package__', '__spec__', 'acos', 'acosh', 'asin', 'asinh', 'atan', 'atan2', 'atanh', 'ceil', 'comb', 'copysign', 'cos', 'cosh', 'degrees', 'dist', 'e', 'erf', 'erfc', 'exp', 'expm1', 'fabs', 'factorial', 'floor', 'fmod', 'frexp', 'fsum', 'gamma', 'gcd', 'hypot', 'inf', 'isclose', 'isfinite', 'isinf', 'isnan', 'isqrt', 'ldexp', 'lgamma', 'log', 'log10', 'log1p', 'log2', 'modf', 'nan', 'perm', 'pi', 'pow', 'prod', 'radians', 'remainder', 'sin', 'sinh', 'sqrt', 'tan', 'tanh', 'tau', 'trunc'] "
     ]
    }
   ],
   "source": [
    "import math\n",
    "print(dir(math),end=' ')"
   ]
  },
  {
   "cell_type": "code",
   "execution_count": 2,
   "metadata": {},
   "outputs": [
    {
     "name": "stdout",
     "output_type": "stream",
     "text": [
      "enter the number u want ton get factorial5\n",
      "the factorial is 120\n"
     ]
    }
   ],
   "source": [
    "import math as m\n",
    "n=int(input(\"enter the number u want ton get factorial\"))\n",
    "print(\"the factorial is\",m.factorial(n))"
   ]
  },
  {
   "cell_type": "code",
   "execution_count": 3,
   "metadata": {},
   "outputs": [
    {
     "name": "stdout",
     "output_type": "stream",
     "text": [
      "enter the  base5\n",
      "enter the power3\n",
      "the value is 125.0\n"
     ]
    }
   ],
   "source": [
    "import math as m \n",
    "n=int(input(\"enter the  base\"))\n",
    "p=int(input(\"enter the power\"))\n",
    "print(\"the value is\",m.pow(n,p))"
   ]
  },
  {
   "cell_type": "code",
   "execution_count": 4,
   "metadata": {},
   "outputs": [
    {
     "name": "stdout",
     "output_type": "stream",
     "text": [
      "1180449\n"
     ]
    }
   ],
   "source": [
    "import random as r\n",
    "print(r.randint(9,8978988))"
   ]
  },
  {
   "cell_type": "code",
   "execution_count": 5,
   "metadata": {},
   "outputs": [
    {
     "name": "stdout",
     "output_type": "stream",
     "text": [
      "4\n"
     ]
    }
   ],
   "source": [
    "import random as r\n",
    "print(r.randrange(1,10))"
   ]
  },
  {
   "cell_type": "code",
   "execution_count": 6,
   "metadata": {},
   "outputs": [
    {
     "name": "stdout",
     "output_type": "stream",
     "text": [
      "u\n"
     ]
    }
   ],
   "source": [
    "import random as r \n",
    "s=\"sumanth\"\n",
    "print(r.choice(s))"
   ]
  },
  {
   "cell_type": "code",
   "execution_count": 8,
   "metadata": {},
   "outputs": [
    {
     "name": "stdout",
     "output_type": "stream",
     "text": [
      "None\n"
     ]
    }
   ],
   "source": [
    "import random as r\n",
    "l=['sys','sysysy',1,2]\n",
    "print(r.shuffle(l))"
   ]
  },
  {
   "cell_type": "code",
   "execution_count": 9,
   "metadata": {},
   "outputs": [
    {
     "name": "stdout",
     "output_type": "stream",
     "text": [
      "['Calendar', 'EPOCH', 'FRIDAY', 'February', 'HTMLCalendar', 'IllegalMonthError', 'IllegalWeekdayError', 'January', 'LocaleHTMLCalendar', 'LocaleTextCalendar', 'MONDAY', 'SATURDAY', 'SUNDAY', 'THURSDAY', 'TUESDAY', 'TextCalendar', 'WEDNESDAY', '_EPOCH_ORD', '__all__', '__builtins__', '__cached__', '__doc__', '__file__', '__loader__', '__name__', '__package__', '__spec__', '_colwidth', '_locale', '_localized_day', '_localized_month', '_monthlen', '_nextmonth', '_prevmonth', '_spacing', 'c', 'calendar', 'datetime', 'day_abbr', 'day_name', 'different_locale', 'error', 'firstweekday', 'format', 'formatstring', 'isleap', 'leapdays', 'main', 'mdays', 'month', 'month_abbr', 'month_name', 'monthcalendar', 'monthrange', 'prcal', 'prmonth', 'prweek', 'repeat', 'setfirstweekday', 'sys', 'timegm', 'week', 'weekday', 'weekheader'] "
     ]
    }
   ],
   "source": [
    "import calendar as c\n",
    "print(dir(c),end=' ')"
   ]
  },
  {
   "cell_type": "code",
   "execution_count": 10,
   "metadata": {},
   "outputs": [
    {
     "name": "stdout",
     "output_type": "stream",
     "text": [
      "True\n"
     ]
    }
   ],
   "source": [
    "import calendar as c\n",
    "print(c.isleap(2020))"
   ]
  },
  {
   "cell_type": "code",
   "execution_count": 1,
   "metadata": {},
   "outputs": [],
   "source": [
    "l=[1,2,3,4,5,6,7]\n",
    "o=[1,2,3,4,5,6]"
   ]
  },
  {
   "cell_type": "markdown",
   "metadata": {},
   "source": [
    "# regular expressions\n",
    "## builtin packages in python\n",
    "## used to match specific patterns\n",
    "### 3 functions\n",
    "### match\n",
    "### matches specific pattern\n",
    "### search\n",
    "#### returns first while searching a character or a substring\n",
    "#### findall\n",
    "#### *returns all possible occurance"
   ]
  },
  {
   "cell_type": "raw",
   "metadata": {},
   "source": [
    "import re as r\n",
    "print(r.findall(\"s\",\"sabavath\"))\n",
    "print(r.search(\"s\",\"sabavath\"))"
   ]
  },
  {
   "cell_type": "raw",
   "metadata": {},
   "source": [
    "-^ --matches starting char\n",
    "-$ --matches end char\n",
    "-[0-9]\n",
    "-[a-z]\n",
    "-[A-Z]\n",
    "-[a-zA-Z]\n",
    "-[0-9]{4}\n",
    "- , -- MATCHES any character\n",
    "-{@} - matches special character"
   ]
  },
  {
   "cell_type": "code",
   "execution_count": 2,
   "metadata": {},
   "outputs": [
    {
     "name": "stdout",
     "output_type": "stream",
     "text": [
      "['2', '3']\n"
     ]
    }
   ],
   "source": [
    "import re as r\n",
    "k=\"friends 2 and 3\"\n",
    "print(r.findall(\"[0-9]\",k))"
   ]
  },
  {
   "cell_type": "code",
   "execution_count": null,
   "metadata": {},
   "outputs": [],
   "source": [
    "import re as r\n",
    "n=int(input(\"enter \"))\n",
    "b='^[+][9][1][6-9][0-9]{9}$'\n",
    "if(r.match(b,n)):\n",
    "    print(\"valid\")\n",
    "else:\n",
    "    print(\"not valid\")"
   ]
  },
  {
   "cell_type": "code",
   "execution_count": null,
   "metadata": {},
   "outputs": [],
   "source": [
    "import re \n",
    "n=input(\"enter email\")\n",
    "p=\"^[0-9]^ ^[a-zA-Z]{6,20}.\"\n",
    "q=\"[a-zA-Z]{5,10}\"\n",
    "r=\"[a-zA-Z]{3}\"\n",
    "if(r.match(p,n))"
   ]
  },
  {
   "cell_type": "code",
   "execution_count": 3,
   "metadata": {},
   "outputs": [
    {
     "name": "stdout",
     "output_type": "stream",
     "text": [
      "enter emailmohannaik@gmail.com\n",
      "valid\n"
     ]
    }
   ],
   "source": [
    "import re \n",
    "n=input(\"enter email\")\n",
    "p=\"^[0-9a-z][0-9a-z_.]{6,30}[@][a-z]{5-20}[.][a-z]{2,5}$\"\n",
    "if(re.match(q,n)):\n",
    "    print(\"valid\")\n",
    "    \n",
    "else:\n",
    "    print(\"not valid\")"
   ]
  },
  {
   "cell_type": "code",
   "execution_count": null,
   "metadata": {},
   "outputs": [],
   "source": [
    "f=open(\"Folder/demo.txt\",\"w\")\n",
    "f.write(\"pradeep\")\n",
    "f.close()\n",
    "f=open('Folder/demo.txt')\n",
    "s=f.read()\n",
    "print(s)"
   ]
  },
  {
   "cell_type": "code",
   "execution_count": 2,
   "metadata": {},
   "outputs": [
    {
     "name": "stdout",
     "output_type": "stream",
     "text": [
      "enterhlo\n"
     ]
    },
    {
     "ename": "FileNotFoundError",
     "evalue": "[Errno 2] No such file or directory: 'folder/demo.txt'",
     "output_type": "error",
     "traceback": [
      "\u001b[1;31m---------------------------------------------------------------------------\u001b[0m",
      "\u001b[1;31mFileNotFoundError\u001b[0m                         Traceback (most recent call last)",
      "\u001b[1;32m<ipython-input-2-38dd2278f6a0>\u001b[0m in \u001b[0;36m<module>\u001b[1;34m\u001b[0m\n\u001b[0;32m      1\u001b[0m \u001b[0mn\u001b[0m\u001b[1;33m=\u001b[0m\u001b[0minput\u001b[0m\u001b[1;33m(\u001b[0m\u001b[1;34m\"enter\"\u001b[0m\u001b[1;33m)\u001b[0m\u001b[1;33m\u001b[0m\u001b[1;33m\u001b[0m\u001b[0m\n\u001b[1;32m----> 2\u001b[1;33m \u001b[1;32mwith\u001b[0m \u001b[0mopen\u001b[0m\u001b[1;33m(\u001b[0m\u001b[1;34m\"folder/demo.txt\"\u001b[0m\u001b[1;33m,\u001b[0m\u001b[1;34m\"w\"\u001b[0m\u001b[1;33m)\u001b[0m\u001b[1;32mas\u001b[0m \u001b[0minfo\u001b[0m\u001b[1;33m:\u001b[0m\u001b[1;33m\u001b[0m\u001b[1;33m\u001b[0m\u001b[0m\n\u001b[0m\u001b[0;32m      3\u001b[0m     \u001b[0minfo\u001b[0m\u001b[1;33m.\u001b[0m\u001b[0mwriten\u001b[0m\u001b[1;33m(\u001b[0m\u001b[0mn\u001b[0m\u001b[1;33m)\u001b[0m\u001b[1;33m\u001b[0m\u001b[1;33m\u001b[0m\u001b[0m\n\u001b[0;32m      4\u001b[0m \u001b[1;33m\u001b[0m\u001b[0m\n\u001b[0;32m      5\u001b[0m \u001b[1;32mwith\u001b[0m \u001b[0mopen\u001b[0m\u001b[1;33m(\u001b[0m\u001b[1;34m\"folder/demo.txt\"\u001b[0m\u001b[1;33m,\u001b[0m\u001b[1;34m\"r\"\u001b[0m\u001b[1;33m)\u001b[0m\u001b[1;32mas\u001b[0m \u001b[0minfo\u001b[0m\u001b[1;33m:\u001b[0m\u001b[1;33m\u001b[0m\u001b[1;33m\u001b[0m\u001b[0m\n",
      "\u001b[1;31mFileNotFoundError\u001b[0m: [Errno 2] No such file or directory: 'folder/demo.txt'"
     ]
    }
   ],
   "source": [
    "n=input(\"enter\")\n",
    "with open(\"folder/demo.txt\",\"w\")as info:\n",
    "    info.writen(n)\n",
    "    \n",
    "with open(\"folder/demo.txt\",\"r\")as info:\n",
    "    s=info.read()\n",
    "    print(s)"
   ]
  },
  {
   "cell_type": "code",
   "execution_count": null,
   "metadata": {},
   "outputs": [],
   "source": [
    "n=input(\"enter\")\n",
    "with open(\"folder/dmm.txt\",\"w\")as info:\n",
    "    info.writen(n)\n",
    "    \n",
    "with open(\"folder/dmm.txt\",\"r\")as info:\n",
    "    s=info.read()\n",
    "    print(s)\n",
    "    "
   ]
  },
  {
   "cell_type": "code",
   "execution_count": null,
   "metadata": {},
   "outputs": [],
   "source": [
    "with open('folder/demo.txt','r')as info:\n",
    "    s=info.read()\n",
    "count=0\n",
    "for i in s:\n",
    "    if(i.isalpha()):\n",
    "        count+=1\n",
    "print(\"the character count is\",count)"
   ]
  },
  {
   "cell_type": "code",
   "execution_count": null,
   "metadata": {},
   "outputs": [],
   "source": [
    "with open('folder/demo.txt','r')as info:\n",
    "    s=info.read()\n",
    "count=0\n",
    "for i in s:\n",
    "    if(i.isalpha()):\n",
    "        count+=1\n",
    "print(\"the character count is\",count)\n",
    "\n",
    "l=list(s.split())\n",
    "print(\"thr world count is\",len(l))\n",
    "\n",
    "print(type(info))"
   ]
  },
  {
   "cell_type": "code",
   "execution_count": null,
   "metadata": {},
   "outputs": [],
   "source": [
    "def sd(l):\n",
    "    g=[]\n",
    "    for i in l:\n",
    "        if(i in g):\n",
    "            continue\n",
    "        else:\n",
    "            g.append(i)\n",
    "    print(g)\n",
    "with open(\"floder/duplicate.txt\",\"r\")as info:\n",
    "    s=info.read()\n",
    "l=list(s.split())\n",
    "sd(l)"
   ]
  },
  {
   "cell_type": "code",
   "execution_count": null,
   "metadata": {},
   "outputs": [],
   "source": [
    "i=0\n",
    "j=0\n",
    "d={}\n",
    "with open(\"folder/count.txt\",\"r\")as info:\n",
    "    s=info.read()\n",
    "print(s)\n",
    "for i in s:\n",
    "    for j in s:\n",
    "        if(i==j):\n",
    "            count+=1\n",
    "    d[i]=count\n",
    "    count=0"
   ]
  },
  {
   "cell_type": "code",
   "execution_count": null,
   "metadata": {},
   "outputs": [],
   "source": [
    "from random import randint \n",
    "def marksgen(n,lb,ub):\n",
    "    with open(\"folder/marks.txt\",'w')as f:\n",
    "        for i in range(n):\n",
    "            r=randint(lb,ub)\n",
    "            f.write(str(r),\"\\n\")\n",
    "    return\n",
    "\n",
    "n=int(input(\"enter student count\"))\n",
    "lb=int(input(\"enter lower range\"))\n",
    "ub=int(input(\"enter upper range\"))\n",
    "marksgen(n,lb,ub)"
   ]
  },
  {
   "cell_type": "code",
   "execution_count": null,
   "metadata": {},
   "outputs": [],
   "source": []
  }
 ],
 "metadata": {
  "kernelspec": {
   "display_name": "Python 3",
   "language": "python",
   "name": "python3"
  },
  "language_info": {
   "codemirror_mode": {
    "name": "ipython",
    "version": 3
   },
   "file_extension": ".py",
   "mimetype": "text/x-python",
   "name": "python",
   "nbconvert_exporter": "python",
   "pygments_lexer": "ipython3",
   "version": "3.8.5"
  }
 },
 "nbformat": 4,
 "nbformat_minor": 4
}
